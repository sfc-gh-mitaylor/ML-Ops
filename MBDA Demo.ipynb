{
 "cells": [
  {
   "cell_type": "markdown",
   "id": "958cd405-287a-4ee3-a111-f112f46e1c22",
   "metadata": {},
   "source": [
    "# 0. Set Up Environment"
   ]
  },
  {
   "cell_type": "code",
   "execution_count": 1,
   "id": "7cd9c0fe-b91d-4147-b63c-e09306b5cb98",
   "metadata": {
    "jupyter": {
     "source_hidden": true
    }
   },
   "outputs": [],
   "source": [
    "import json\n",
    "import numpy as np\n",
    "import pandas as pd\n",
    "import os\n",
    "import sys\n",
    "\n",
    "from snowflake.snowpark.session import Session\n",
    "from snowflake.snowpark.functions import sproc, col\n",
    "import snowflake.snowpark.functions as F\n",
    "import snowflake.snowpark.types as T\n",
    "\n",
    "from snowflake.snowpark.types import PandasDataFrameType, IntegerType, StringType, FloatType, Variant\n",
    "from snowflake.snowpark.exceptions import SnowparkSQLException\n",
    "from snowflake.ml.modeling.linear_model import LinearRegression\n",
    "from snowflake.ml.registry import registry\n",
    "from snowflake.ml._internal.utils import identifier\n",
    "\n",
    "from snowflake.ml.feature_store import (\n",
    "    FeatureStore,\n",
    "    FeatureView,\n",
    "    Entity,\n",
    "    CreationMode\n",
    ")"
   ]
  },
  {
   "cell_type": "code",
   "execution_count": 2,
   "id": "d8f9d64b-83de-4960-958a-6f27180f1c8d",
   "metadata": {
    "jupyter": {
     "source_hidden": true
    }
   },
   "outputs": [
    {
     "data": {
      "text/plain": [
       "[Row(status='Warehouse MBDA_WH successfully created.')]"
      ]
     },
     "execution_count": 2,
     "metadata": {},
     "output_type": "execute_result"
    }
   ],
   "source": [
    "# Reading Snowflake Connection Details\n",
    "snowflake_connection_cfg = json.loads(open(\"/Users/mitaylor/Documents/creds/creds.json\").read())\n",
    "\n",
    "# Creating Snowpark Session\n",
    "session = Session.builder.configs(snowflake_connection_cfg).create()\n",
    "\n",
    "# Create a fresh & new schema\n",
    "session.sql(\"CREATE OR REPLACE DATABASE MODEL_REGISTRY\").collect()\n",
    "session.sql(\"CREATE OR REPLACE SCHEMA PUBLIC\").collect()\n",
    "REGISTRY_DATABASE_NAME = \"MODEL_REGISTRY\"\n",
    "REGISTRY_SCHEMA_NAME = \"PUBLIC\"\n",
    "native_registry = registry.Registry(session=session, database_name=REGISTRY_DATABASE_NAME, schema_name=REGISTRY_SCHEMA_NAME)\n",
    "session.sql(\"CREATE OR REPLACE DATABASE MBDA_TEST\").collect()\n",
    "session.sql(\"CREATE OR REPLACE STAGE MONITORING\").collect()\n",
    "session.sql(\"CREATE OR REPLACE WAREHOUSE MBDA_WH WITH WAREHOUSE_SIZE='X-SMALL'\").collect()"
   ]
  },
  {
   "cell_type": "code",
   "execution_count": 3,
   "id": "be4afbaa-9e60-44a8-a448-6c7cab24f9c7",
   "metadata": {
    "jupyter": {
     "source_hidden": true
    }
   },
   "outputs": [
    {
     "data": {
      "text/plain": [
       "[Row(status='Stage area IRIS_DATA successfully created.')]"
      ]
     },
     "execution_count": 3,
     "metadata": {},
     "output_type": "execute_result"
    }
   ],
   "source": [
    "# Create our external stages (in S3)\n",
    "aws_connection_cfg = json.loads(open(\"/Users/mitaylor/Documents/creds/aws_creds.json\").read())\n",
    "AWS_SECRET_KEY = aws_connection_cfg['password']\n",
    "AWS_KEY_ID = aws_connection_cfg['account']\n",
    "session.use_schema('PUBLIC')\n",
    "session.sql(f\"\"\"\n",
    "CREATE OR REPLACE STAGE IRIS_DATA \n",
    "URL = 's3://mtaylor-raw-data-store/iris_data'\n",
    "CREDENTIALS = (AWS_KEY_ID = '{AWS_KEY_ID}'  AWS_SECRET_KEY = '{AWS_SECRET_KEY}')\n",
    "file_format = (type = 'CSV' field_delimiter = ',')\n",
    "DIRECTORY=(ENABLE=TRUE AUTO_REFRESH=FALSE);\n",
    "\"\"\").collect()\n"
   ]
  },
  {
   "cell_type": "markdown",
   "id": "86c3a091-aa52-4b1a-ad8f-d7e53d3ac532",
   "metadata": {},
   "source": [
    "# 1. Load Data (Note manual, can be automated via Snowpipe)"
   ]
  },
  {
   "cell_type": "code",
   "execution_count": 30,
   "id": "55350464-a58a-4bb9-a62c-c2e5ce79bcd8",
   "metadata": {},
   "outputs": [
    {
     "name": "stdout",
     "output_type": "stream",
     "text": [
      "-------------------------------------------------------------------------------\n",
      "|\"IRIS_ID\"  |\"SEP_LEN\"  |\"SEP_WIDTH\"  |\"PET_LEN\"  |\"PET_WIDTH\"  |\"IRIS_TYPE\"  |\n",
      "-------------------------------------------------------------------------------\n",
      "|0          |5.1        |3.5          |1.4        |0.2          |0            |\n",
      "|1          |4.9        |3.0          |1.4        |0.2          |0            |\n",
      "|2          |4.7        |3.2          |1.3        |0.2          |0            |\n",
      "-------------------------------------------------------------------------------\n",
      "\n"
     ]
    }
   ],
   "source": [
    "session.sql('''create or replace table IRIS_TABLE(IRIS_ID int, SEP_LEN float, SEP_WIDTH float, PET_LEN float, PET_WIDTH float, IRIS_TYPE int);''').collect()\n",
    "session.sql('''copy into MBDA_TEST.public.IRIS_TABLE from @MBDA_TEST.public.IRIS_DATA;''').collect()\n",
    "sdf = session.table('IRIS_TABLE')\n",
    "sdf.limit(3).show()"
   ]
  },
  {
   "cell_type": "markdown",
   "id": "e735087e-8e13-4959-9c77-bf03cf9b30d9",
   "metadata": {},
   "source": [
    "# 2. Create a Feature Store Client (and register an Entity)"
   ]
  },
  {
   "cell_type": "code",
   "execution_count": 5,
   "id": "a75986b9-9ea5-4ea1-a8f0-92f38c853da0",
   "metadata": {},
   "outputs": [
    {
     "name": "stderr",
     "output_type": "stream",
     "text": [
      "FeatureStore.__init__() is in private preview since 1.0.8. Do not use it in production. \n",
      "FeatureStore.update_default_warehouse() is in private preview since 1.0.12. Do not use it in production. \n"
     ]
    }
   ],
   "source": [
    "fs = FeatureStore(\n",
    "    session=session, \n",
    "    database=\"MBDA_TEST\", \n",
    "    name=\"PUBLIC\", \n",
    "    default_warehouse=\"MBDA_WH\",\n",
    "    creation_mode=CreationMode.CREATE_IF_NOT_EXIST,\n",
    ")\n",
    "entity = Entity(name=\"IRIS\", join_keys=[\"IRIS_ID\"])\n",
    "fs.register_entity(entity)\n",
    "fs.list_entities().show()"
   ]
  },
  {
   "cell_type": "markdown",
   "id": "d51faee0-aef9-41b0-8435-8009be781319",
   "metadata": {},
   "source": [
    "# 3. Create Features Using Snowpark (or pandas via a UD(T)F)"
   ]
  },
  {
   "cell_type": "code",
   "execution_count": 31,
   "id": "937607e4-e717-43ea-b5d2-0da1597cf441",
   "metadata": {},
   "outputs": [
    {
     "name": "stdout",
     "output_type": "stream",
     "text": [
      "----------------------------------------------------------------------------------------------------\n",
      "|\"IRIS_ID\"  |\"SEP_LEN\"  |\"SEP_WIDTH\"  |\"PET_LEN\"  |\"PET_WIDTH\"  |\"IRIS_TYPE\"  |\"MY_NEW_FEATURE\"    |\n",
      "----------------------------------------------------------------------------------------------------\n",
      "|0          |5.1        |3.5          |1.4        |0.2          |0            |17.849999999999998  |\n",
      "|1          |4.9        |3.0          |1.4        |0.2          |0            |14.700000000000001  |\n",
      "|2          |4.7        |3.2          |1.3        |0.2          |0            |15.040000000000001  |\n",
      "----------------------------------------------------------------------------------------------------\n",
      "\n"
     ]
    }
   ],
   "source": [
    "sdf = sdf.withColumn(\"MY_NEW_FEATURE\", sdf[\"SEP_LEN\"] * sdf[\"SEP_WIDTH\"])\n",
    "sdf.limit(3).show()"
   ]
  },
  {
   "cell_type": "markdown",
   "id": "08e40d7c-d9de-495c-b00b-972301c27c13",
   "metadata": {},
   "source": [
    "# 4. Register Those Features in the Feature Store"
   ]
  },
  {
   "cell_type": "code",
   "execution_count": 32,
   "id": "ea9cb39c-c580-4059-b541-3b8b4cfb0942",
   "metadata": {},
   "outputs": [
    {
     "name": "stdout",
     "output_type": "stream",
     "text": [
      "------------------------------------------------------------------------------------\n",
      "|\"IRIS_ID\"  |\"SEP_LEN\"  |\"SEP_WIDTH\"  |\"PET_LEN\"  |\"PET_WIDTH\"  |\"MY_NEW_FEATURE\"  |\n",
      "------------------------------------------------------------------------------------\n",
      "|154        |6.7        |3.3          |5.7        |2.5          |22.11             |\n",
      "|155        |6.7        |3.0          |5.2        |2.3          |20.1              |\n",
      "|151        |6.9        |3.1          |5.1        |2.3          |21.39             |\n",
      "------------------------------------------------------------------------------------\n",
      "\n"
     ]
    }
   ],
   "source": [
    "fv = FeatureView(\n",
    "    name=\"IRIS_FEATURES\", \n",
    "    entities=[entity], #ie wine\n",
    "    feature_df=sdf['IRIS_ID', 'SEP_LEN', 'SEP_WIDTH', 'PET_LEN', 'PET_WIDTH', 'MY_NEW_FEATURE'], \n",
    "    refresh_freq=\"1 minute\", \n",
    "    desc=\"iris features\")\n",
    "\n",
    "fv = fs.register_feature_view(\n",
    "    feature_view=fv, \n",
    "    version=\"V1\", \n",
    "    block=True)\n",
    "\n",
    "fs.read_feature_view(fv).limit(3).show()"
   ]
  },
  {
   "cell_type": "markdown",
   "id": "f73356a2-a9f1-4708-9f52-ae54b4f11008",
   "metadata": {},
   "source": [
    "# 5. Use the Feature Store to Hydrate A Spine DataFrame (that only includes ID and Iris Type)"
   ]
  },
  {
   "cell_type": "code",
   "execution_count": 9,
   "id": "18fdcb9c-67c7-41ac-ae18-63ea97df906f",
   "metadata": {},
   "outputs": [],
   "source": [
    "spine_df = session.table(\"IRIS_TABLE\")\n",
    "spine_df = spine_df.select(\"IRIS_ID\", \"IRIS_TYPE\")"
   ]
  },
  {
   "cell_type": "code",
   "execution_count": 33,
   "id": "35ebfbf3-b79f-4f1e-ba9c-60cf99a12f13",
   "metadata": {},
   "outputs": [
    {
     "name": "stdout",
     "output_type": "stream",
     "text": [
      "--------------------------------------------------------------\n",
      "|\"IRIS_TYPE\"  |\"SEP_LEN\"  |\"SEP_WIDTH\"  |\"MY_NEW_FEATURE\"    |\n",
      "--------------------------------------------------------------\n",
      "|0            |5.1        |3.5          |17.849999999999998  |\n",
      "|0            |4.9        |3.0          |14.700000000000001  |\n",
      "|0            |4.7        |3.2          |15.040000000000001  |\n",
      "--------------------------------------------------------------\n",
      "\n"
     ]
    }
   ],
   "source": [
    "session.sql(f\"DROP TABLE IF EXISTS IRIS_TRAINING_DATA_TABLE\").collect()\n",
    "training_data = fs.generate_dataset( \n",
    "    spine_df=spine_df, \n",
    "    features=[fv.slice([\"SEP_LEN\", \n",
    "                        \"SEP_WIDTH\", \n",
    "                        \"MY_NEW_FEATURE\"])], \n",
    "    materialized_table=\"IRIS_TRAINING_DATA_TABLE\", \n",
    "    spine_timestamp_col=None, \n",
    "    spine_label_cols=[\"IRIS_TYPE\"], \n",
    "    save_mode=\"merge\",\n",
    "    exclude_columns=['IRIS_ID'] \n",
    ")\n",
    "\n",
    "training_data.df.limit(3).show()"
   ]
  },
  {
   "cell_type": "markdown",
   "id": "edc8dbc6-e1a7-4669-a322-2cecddfecede",
   "metadata": {},
   "source": [
    "# 6. Train a Machine Learning Model Using Snowpark ML"
   ]
  },
  {
   "cell_type": "code",
   "execution_count": 11,
   "id": "eb324dc5-d2ec-4f2e-bc83-780ab4fde31b",
   "metadata": {},
   "outputs": [
    {
     "name": "stderr",
     "output_type": "stream",
     "text": [
      "The version of package 'snowflake-snowpark-python' in the local environment is 1.13.0, which does not fit the criteria for the requirement 'snowflake-snowpark-python'. Your UDF might not work when the package version is different between the server and your local environment.\n"
     ]
    },
    {
     "name": "stdout",
     "output_type": "stream",
     "text": [
      "Accuracy: 99.728571428571\n"
     ]
    }
   ],
   "source": [
    "from snowflake.ml.modeling.ensemble import RandomForestClassifier\n",
    "from snowflake.ml.modeling import metrics as snowml_metrics\n",
    "from snowflake.snowpark.functions import abs as sp_abs, mean, col\n",
    "\n",
    "def snowpark_train_model(training_data):\n",
    "    train, test = training_data.df.random_split([0.8, 0.2], seed=42)\n",
    "    feature_columns = [col for col in training_data.df.columns if col != \"IRIS_TYPE\"]\n",
    "    label_column = \"IRIS_TYPE\"\n",
    "\n",
    "    rf = RandomForestClassifier(input_cols=feature_columns,\n",
    "                               label_cols=[label_column],\n",
    "                               max_depth=3,\n",
    "                               n_estimators=20,\n",
    "                               random_state=42)\n",
    "\n",
    "    rf.fit(train)\n",
    "    predictions = rf.predict(test)\n",
    "\n",
    "    accuracy = 100 - snowml_metrics.mean_absolute_percentage_error(df=predictions,\n",
    "                                                                   y_true_col_names=label_column,\n",
    "                                                                   y_pred_col_names=\"OUTPUT_\" + label_column)\n",
    "\n",
    "    print(f\"Accuracy: {accuracy}\")\n",
    "    return rf\n",
    "\n",
    "rf = snowpark_train_model(training_data)"
   ]
  },
  {
   "cell_type": "markdown",
   "id": "80903223-8812-4375-a523-b7e3855a15bd",
   "metadata": {},
   "source": [
    "# 7. Register and Deploy that Model in the \"Model Registry\""
   ]
  },
  {
   "cell_type": "code",
   "execution_count": 12,
   "id": "bbfbd526-1179-4bda-bc3d-60c1f3f59bab",
   "metadata": {},
   "outputs": [],
   "source": [
    "MODEL_NAME = \"MBDA_MODEL\"\n",
    "MODEL_VERSION = \"v1\"\n",
    "\n",
    "model = native_registry.log_model(\n",
    "    model_name=MODEL_NAME,\n",
    "    version_name=MODEL_VERSION,\n",
    "    model=rf,\n",
    ")"
   ]
  },
  {
   "cell_type": "markdown",
   "id": "a9f3dd02-9a60-437e-b24e-aa4239860364",
   "metadata": {},
   "source": [
    "# 8. Run the Model (Using New Data That Automatically Generates Features via Feature Store)"
   ]
  },
  {
   "cell_type": "code",
   "execution_count": 13,
   "id": "246fd4c5-1975-4c02-ae79-47421d9e3ef9",
   "metadata": {},
   "outputs": [],
   "source": [
    "df = pd.read_csv(\"iris2.csv\")\n",
    "df.columns = columns=['IRIS_ID', 'SEP_LEN', 'SEP_WIDTH', 'PET_LEN', 'PET_WIDTH', 'IRIS_TYPE']\n",
    "session.write_pandas(df, table_name='IRIS_TABLE')\n",
    "spine_df = session.sql(\"select IRIS_ID, IRIS_TYPE from IRIS_TABLE WHERE IRIS_ID > 149\")\n",
    "enriched_df = fs.retrieve_feature_values(spine_df, training_data.load_features())\n",
    "enriched_df = enriched_df.drop('IRIS_ID')"
   ]
  },
  {
   "cell_type": "code",
   "execution_count": 17,
   "id": "b57f8af9-1fa1-4192-8c4d-1c952948bf94",
   "metadata": {},
   "outputs": [
    {
     "data": {
      "text/html": [
       "<div>\n",
       "<style scoped>\n",
       "    .dataframe tbody tr th:only-of-type {\n",
       "        vertical-align: middle;\n",
       "    }\n",
       "\n",
       "    .dataframe tbody tr th {\n",
       "        vertical-align: top;\n",
       "    }\n",
       "\n",
       "    .dataframe thead th {\n",
       "        text-align: right;\n",
       "    }\n",
       "</style>\n",
       "<table border=\"1\" class=\"dataframe\">\n",
       "  <thead>\n",
       "    <tr style=\"text-align: right;\">\n",
       "      <th></th>\n",
       "      <th>IRIS_TYPE</th>\n",
       "      <th>SEP_LEN</th>\n",
       "      <th>SEP_WIDTH</th>\n",
       "      <th>MY_NEW_FEATURE</th>\n",
       "      <th>OUTPUT_IRIS_TYPE</th>\n",
       "    </tr>\n",
       "  </thead>\n",
       "  <tbody>\n",
       "    <tr>\n",
       "      <th>0</th>\n",
       "      <td>2</td>\n",
       "      <td>6.9</td>\n",
       "      <td>3.1</td>\n",
       "      <td>21.39</td>\n",
       "      <td>2</td>\n",
       "    </tr>\n",
       "    <tr>\n",
       "      <th>1</th>\n",
       "      <td>2</td>\n",
       "      <td>6.5</td>\n",
       "      <td>3.0</td>\n",
       "      <td>19.50</td>\n",
       "      <td>2</td>\n",
       "    </tr>\n",
       "    <tr>\n",
       "      <th>2</th>\n",
       "      <td>2</td>\n",
       "      <td>5.8</td>\n",
       "      <td>2.7</td>\n",
       "      <td>15.66</td>\n",
       "      <td>1</td>\n",
       "    </tr>\n",
       "    <tr>\n",
       "      <th>3</th>\n",
       "      <td>2</td>\n",
       "      <td>6.7</td>\n",
       "      <td>3.3</td>\n",
       "      <td>22.11</td>\n",
       "      <td>2</td>\n",
       "    </tr>\n",
       "    <tr>\n",
       "      <th>4</th>\n",
       "      <td>2</td>\n",
       "      <td>6.2</td>\n",
       "      <td>3.4</td>\n",
       "      <td>21.08</td>\n",
       "      <td>2</td>\n",
       "    </tr>\n",
       "    <tr>\n",
       "      <th>5</th>\n",
       "      <td>2</td>\n",
       "      <td>5.9</td>\n",
       "      <td>3.0</td>\n",
       "      <td>17.70</td>\n",
       "      <td>1</td>\n",
       "    </tr>\n",
       "    <tr>\n",
       "      <th>6</th>\n",
       "      <td>2</td>\n",
       "      <td>6.3</td>\n",
       "      <td>2.5</td>\n",
       "      <td>15.75</td>\n",
       "      <td>1</td>\n",
       "    </tr>\n",
       "    <tr>\n",
       "      <th>7</th>\n",
       "      <td>2</td>\n",
       "      <td>6.7</td>\n",
       "      <td>3.0</td>\n",
       "      <td>20.10</td>\n",
       "      <td>2</td>\n",
       "    </tr>\n",
       "    <tr>\n",
       "      <th>8</th>\n",
       "      <td>2</td>\n",
       "      <td>6.8</td>\n",
       "      <td>3.2</td>\n",
       "      <td>21.76</td>\n",
       "      <td>2</td>\n",
       "    </tr>\n",
       "  </tbody>\n",
       "</table>\n",
       "</div>"
      ],
      "text/plain": [
       "   IRIS_TYPE  SEP_LEN  SEP_WIDTH  MY_NEW_FEATURE  OUTPUT_IRIS_TYPE\n",
       "0          2      6.9        3.1           21.39                 2\n",
       "1          2      6.5        3.0           19.50                 2\n",
       "2          2      5.8        2.7           15.66                 1\n",
       "3          2      6.7        3.3           22.11                 2\n",
       "4          2      6.2        3.4           21.08                 2\n",
       "5          2      5.9        3.0           17.70                 1\n",
       "6          2      6.3        2.5           15.75                 1\n",
       "7          2      6.7        3.0           20.10                 2\n",
       "8          2      6.8        3.2           21.76                 2"
      ]
     },
     "execution_count": 17,
     "metadata": {},
     "output_type": "execute_result"
    }
   ],
   "source": [
    "model.run(enriched_df, function_name=\"predict\").limit(10).to_pandas()"
   ]
  },
  {
   "cell_type": "code",
   "execution_count": 18,
   "id": "e6586e03-6f3c-4dc7-af55-58c4f01d07fe",
   "metadata": {},
   "outputs": [
    {
     "data": {
      "text/html": [
       "<div>\n",
       "<style scoped>\n",
       "    .dataframe tbody tr th:only-of-type {\n",
       "        vertical-align: middle;\n",
       "    }\n",
       "\n",
       "    .dataframe tbody tr th {\n",
       "        vertical-align: top;\n",
       "    }\n",
       "\n",
       "    .dataframe thead th {\n",
       "        text-align: right;\n",
       "    }\n",
       "</style>\n",
       "<table border=\"1\" class=\"dataframe\">\n",
       "  <thead>\n",
       "    <tr style=\"text-align: right;\">\n",
       "      <th></th>\n",
       "      <th>IRIS_ID</th>\n",
       "      <th>SEP_LEN</th>\n",
       "      <th>SEP_WIDTH</th>\n",
       "      <th>PET_LEN</th>\n",
       "      <th>PET_WIDTH</th>\n",
       "      <th>MY_NEW_FEATURE</th>\n",
       "    </tr>\n",
       "  </thead>\n",
       "  <tbody>\n",
       "    <tr>\n",
       "      <th>0</th>\n",
       "      <td>154</td>\n",
       "      <td>6.7</td>\n",
       "      <td>3.3</td>\n",
       "      <td>5.7</td>\n",
       "      <td>2.5</td>\n",
       "      <td>22.11</td>\n",
       "    </tr>\n",
       "    <tr>\n",
       "      <th>1</th>\n",
       "      <td>155</td>\n",
       "      <td>6.7</td>\n",
       "      <td>3.0</td>\n",
       "      <td>5.2</td>\n",
       "      <td>2.3</td>\n",
       "      <td>20.10</td>\n",
       "    </tr>\n",
       "    <tr>\n",
       "      <th>2</th>\n",
       "      <td>151</td>\n",
       "      <td>6.9</td>\n",
       "      <td>3.1</td>\n",
       "      <td>5.1</td>\n",
       "      <td>2.3</td>\n",
       "      <td>21.39</td>\n",
       "    </tr>\n",
       "    <tr>\n",
       "      <th>3</th>\n",
       "      <td>152</td>\n",
       "      <td>5.8</td>\n",
       "      <td>2.7</td>\n",
       "      <td>5.1</td>\n",
       "      <td>1.9</td>\n",
       "      <td>15.66</td>\n",
       "    </tr>\n",
       "    <tr>\n",
       "      <th>4</th>\n",
       "      <td>158</td>\n",
       "      <td>6.2</td>\n",
       "      <td>3.4</td>\n",
       "      <td>5.4</td>\n",
       "      <td>2.3</td>\n",
       "      <td>21.08</td>\n",
       "    </tr>\n",
       "    <tr>\n",
       "      <th>...</th>\n",
       "      <td>...</td>\n",
       "      <td>...</td>\n",
       "      <td>...</td>\n",
       "      <td>...</td>\n",
       "      <td>...</td>\n",
       "      <td>...</td>\n",
       "    </tr>\n",
       "    <tr>\n",
       "      <th>154</th>\n",
       "      <td>145</td>\n",
       "      <td>6.7</td>\n",
       "      <td>3.0</td>\n",
       "      <td>5.2</td>\n",
       "      <td>2.3</td>\n",
       "      <td>20.10</td>\n",
       "    </tr>\n",
       "    <tr>\n",
       "      <th>155</th>\n",
       "      <td>146</td>\n",
       "      <td>6.3</td>\n",
       "      <td>2.5</td>\n",
       "      <td>5.0</td>\n",
       "      <td>1.9</td>\n",
       "      <td>15.75</td>\n",
       "    </tr>\n",
       "    <tr>\n",
       "      <th>156</th>\n",
       "      <td>147</td>\n",
       "      <td>6.5</td>\n",
       "      <td>3.0</td>\n",
       "      <td>5.2</td>\n",
       "      <td>2.0</td>\n",
       "      <td>19.50</td>\n",
       "    </tr>\n",
       "    <tr>\n",
       "      <th>157</th>\n",
       "      <td>148</td>\n",
       "      <td>6.2</td>\n",
       "      <td>3.4</td>\n",
       "      <td>5.4</td>\n",
       "      <td>2.3</td>\n",
       "      <td>21.08</td>\n",
       "    </tr>\n",
       "    <tr>\n",
       "      <th>158</th>\n",
       "      <td>149</td>\n",
       "      <td>5.9</td>\n",
       "      <td>3.0</td>\n",
       "      <td>5.1</td>\n",
       "      <td>1.8</td>\n",
       "      <td>17.70</td>\n",
       "    </tr>\n",
       "  </tbody>\n",
       "</table>\n",
       "<p>159 rows × 6 columns</p>\n",
       "</div>"
      ],
      "text/plain": [
       "     IRIS_ID  SEP_LEN  SEP_WIDTH  PET_LEN  PET_WIDTH  MY_NEW_FEATURE\n",
       "0        154      6.7        3.3      5.7        2.5           22.11\n",
       "1        155      6.7        3.0      5.2        2.3           20.10\n",
       "2        151      6.9        3.1      5.1        2.3           21.39\n",
       "3        152      5.8        2.7      5.1        1.9           15.66\n",
       "4        158      6.2        3.4      5.4        2.3           21.08\n",
       "..       ...      ...        ...      ...        ...             ...\n",
       "154      145      6.7        3.0      5.2        2.3           20.10\n",
       "155      146      6.3        2.5      5.0        1.9           15.75\n",
       "156      147      6.5        3.0      5.2        2.0           19.50\n",
       "157      148      6.2        3.4      5.4        2.3           21.08\n",
       "158      149      5.9        3.0      5.1        1.8           17.70\n",
       "\n",
       "[159 rows x 6 columns]"
      ]
     },
     "execution_count": 18,
     "metadata": {},
     "output_type": "execute_result"
    }
   ],
   "source": [
    "session.table('IRIS_FEATURES$V1').to_pandas()"
   ]
  },
  {
   "cell_type": "markdown",
   "id": "3f183f37-3f37-461b-954d-22d924dd7f8b",
   "metadata": {},
   "source": [
    "# 9. Monitor the Data Drift Using Evidently"
   ]
  },
  {
   "cell_type": "code",
   "execution_count": 26,
   "id": "14f51259-8bcb-4c47-8741-5bac0f4a49ce",
   "metadata": {},
   "outputs": [
    {
     "name": "stderr",
     "output_type": "stream",
     "text": [
      "WARNING:snowflake.snowpark.session:The version of package 'snowflake-snowpark-python' in the local environment is 1.13.0, which does not fit the criteria for the requirement 'snowflake-snowpark-python'. Your UDF might not work when the package version is different between the server and your local environment.\n"
     ]
    },
    {
     "data": {
      "text/plain": [
       "'Report Executed'"
      ]
     },
     "execution_count": 26,
     "metadata": {},
     "output_type": "execute_result"
    }
   ],
   "source": [
    "@sproc(session=session, name='evidently_monitor', stage_location='@MONITORING',  \n",
    "       packages=['snowflake-snowpark-python', 'pandas', 'evidently', 'snowflake-ml-python'], \n",
    "       is_permanent=True, \n",
    "       replace=True)\n",
    "def monitor_model(session: Session) -> str:   \n",
    "    from evidently.report import Report\n",
    "    from evidently.metrics.base_metric import generate_column_metrics\n",
    "    from evidently.metric_preset import DataDriftPreset, TargetDriftPreset\n",
    "    from evidently.test_suite import TestSuite\n",
    "    from evidently.tests.base_test import generate_column_tests\n",
    "    from evidently.test_preset import DataStabilityTestPreset, NoTargetPerformanceTestPreset\n",
    "    from evidently.metrics import ColumnSummaryMetric, ColumnQuantileMetric, ColumnDriftMetric\n",
    "    from joblib import dump\n",
    "\n",
    "    report = Report(metrics=[\n",
    "        ColumnSummaryMetric(column_name='SEP_LEN'),\n",
    "        ColumnQuantileMetric(column_name='SEP_LEN', quantile=0.25),\n",
    "        ColumnDriftMetric(column_name='SEP_LEN'),\n",
    "        ColumnSummaryMetric(column_name='SEP_WIDTH'),\n",
    "        ColumnQuantileMetric(column_name='SEP_WIDTH', quantile=0.25),\n",
    "        ColumnDriftMetric(column_name='SEP_WIDTH')\n",
    "    ])\n",
    "    \n",
    "    reference = session.sql('select SEP_LEN, SEP_WIDTH, MY_NEW_FEATURE from IRIS_FEATURES$V1 WHERE IRIS_ID < 160').to_pandas()\n",
    "    current = session.sql('select SEP_LEN, SEP_WIDTH, MY_NEW_FEATURE from IRIS_FEATURES$V1 WHERE IRIS_ID > 160').to_pandas()\n",
    "\n",
    "    report.run(reference_data=reference, current_data=current)\n",
    "    \n",
    "    report.save_html(\"/tmp/report.html\")\n",
    "    session.file.put(\"/tmp/report.html\", '@MONITORING', auto_compress=False, overwrite=True)\n",
    "\n",
    "    return('Report Executed')\n",
    "\n",
    "monitor_model()"
   ]
  },
  {
   "cell_type": "markdown",
   "id": "ebcb4949-4fab-483a-81ea-7bca4cd87fd5",
   "metadata": {},
   "source": [
    "# 10. Schedule Monitoring With Tasks"
   ]
  },
  {
   "cell_type": "code",
   "execution_count": 27,
   "id": "09287bd5-1409-4e55-84d3-e28f87b96ddf",
   "metadata": {},
   "outputs": [
    {
     "data": {
      "text/plain": [
       "[Row(status='Task MONITOR_DRIFT successfully created.')]"
      ]
     },
     "execution_count": 27,
     "metadata": {},
     "output_type": "execute_result"
    }
   ],
   "source": [
    "session.sql(\"CREATE OR REPLACE TASK MONITOR_DRIFT WAREHOUSE = ALERTS_WH AS CALL evidently_monitor()\").collect()"
   ]
  },
  {
   "cell_type": "code",
   "execution_count": 28,
   "id": "b26a9985-129f-4346-91ca-76d08e76ed48",
   "metadata": {},
   "outputs": [
    {
     "data": {
      "text/plain": [
       "[Row(status='Task MONITOR_DRIFT is scheduled to run immediately.')]"
      ]
     },
     "execution_count": 28,
     "metadata": {},
     "output_type": "execute_result"
    }
   ],
   "source": [
    "session.sql(\"EXECUTE TASK MONITOR_DRIFT\").collect()"
   ]
  },
  {
   "cell_type": "code",
   "execution_count": 29,
   "id": "e0032608-997d-4828-90ba-b78566573971",
   "metadata": {},
   "outputs": [
    {
     "data": {
      "text/plain": [
       "[Row(status='Statement executed successfully.')]"
      ]
     },
     "execution_count": 29,
     "metadata": {},
     "output_type": "execute_result"
    }
   ],
   "source": [
    "session.sql(\"\"\"CREATE OR REPLACE TASK MONITOR_DRIFT\n",
    "    WAREHOUSE = ALERTS_WH\n",
    "    SCHEDULE = 'USING CRON 50 13 * * MON UTC'\n",
    "    as CREATE OR REPLACE STAGE FUNCTIONS_DUMMY\"\"\").collect() # dummy right now\n",
    "session.sql('ALTER TASK MONITOR_DRIFT RESUME').collect()\n"
   ]
  }
 ],
 "metadata": {
  "kernelspec": {
   "display_name": "Python 3 (ipykernel)",
   "language": "python",
   "name": "python3"
  },
  "language_info": {
   "codemirror_mode": {
    "name": "ipython",
    "version": 3
   },
   "file_extension": ".py",
   "mimetype": "text/x-python",
   "name": "python",
   "nbconvert_exporter": "python",
   "pygments_lexer": "ipython3",
   "version": "3.10.13"
  }
 },
 "nbformat": 4,
 "nbformat_minor": 5
}
